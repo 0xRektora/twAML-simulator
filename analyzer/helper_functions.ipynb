{
 "cells": [
  {
   "cell_type": "code",
   "execution_count": 1,
   "metadata": {},
   "outputs": [],
   "source": [
    "import numpy as np\n",
    "import matplotlib.pyplot as plt\n",
    "import pandas as pd"
   ]
  },
  {
   "cell_type": "code",
   "execution_count": 2,
   "metadata": {},
   "outputs": [],
   "source": [
    "# constants\n",
    "ONE_DAY = 24 * 3600\n",
    "ONE_WEEK = ONE_DAY * 7\n",
    "ONE_ETHER = 10**18\n",
    "\n",
    "ifcolumns = [\"timestamp\", \"operation\", \"account\", \"amount\", \"duration\"]\n",
    "ifcolumnsMaxGrowth = [\n",
    "    \"timestamp\",\n",
    "    \"Voting\",\n",
    "    \"Nil\",\n",
    "    \"amount\",\n",
    "    \"duration\",\n",
    "]\n",
    "ofcolumns = [\n",
    "    \"timestamp\",\n",
    "    \"totalParticipants\",\n",
    "    \"averageMagnitude\",\n",
    "    \"totalDeposited\",\n",
    "    \"cumulative\",\n",
    "]\n",
    "\n",
    "label_dict = {\"duration\": \"weeks\"}"
   ]
  },
  {
   "cell_type": "code",
   "execution_count": 3,
   "metadata": {},
   "outputs": [],
   "source": [
    "def plot_results(df_to_plot, columns):\n",
    "    r = int(np.ceil(len(columns) / 2))\n",
    "    c = 2\n",
    "    fig, axs = plt.subplots(r, c, figsize=(10, 5 * r))\n",
    "    for ax, column in zip(axs.flatten(), columns):\n",
    "        df_to_plot.plot(x=\"timestamp_days\", y=column, style=\".-\", ax=ax)\n",
    "        if column in label_dict:\n",
    "            ax.set_ylabel(label_dict[column])\n",
    "        ax.set_title(column)\n",
    "        ax.grid(True)\n",
    "    plt.tight_layout()"
   ]
  },
  {
   "cell_type": "code",
   "execution_count": 4,
   "metadata": {},
   "outputs": [],
   "source": [
    "# def plot_comparison(df1, df2, columns):\n",
    "#     r = int(np.ceil(len(columns) / 2))\n",
    "#     c = 2\n",
    "#     fig, axs = plt.subplots(r, c, figsize=(10, 5 * r))\n",
    "#     for ax, column in zip(axs.flatten(), columns):\n",
    "#         df1.plot(x=\"timestamp_days\", y=column, style=\".-\", ax=ax, label=\"v1\")\n",
    "#         df2.plot(x=\"timestamp_days\", y=column, style=\".-\", ax=ax, label=\"v2\")\n",
    "#         if column in label_dict:\n",
    "#             ax.set_ylabel(label_dict[column])\n",
    "#         ax.set_title(column)\n",
    "#         ax.grid(True)\n",
    "#         ax.legend()\n",
    "#     plt.tight_layout()"
   ]
  },
  {
   "cell_type": "code",
   "execution_count": 5,
   "metadata": {},
   "outputs": [],
   "source": [
    "def plot_comparison(*dataframes, columns):\n",
    "    r = int(np.ceil(len(columns) / 2))\n",
    "    c = 2\n",
    "    fig, axs = plt.subplots(r, c, figsize=(10, 5 * r))\n",
    "    for ax, column in zip(axs.flatten(), columns):\n",
    "        for i, df in enumerate(dataframes):\n",
    "            df.plot(\n",
    "                x=\"timestamp_days\",\n",
    "                y=column,\n",
    "                style=\".-\",\n",
    "                ax=ax,\n",
    "                label=f\"v{i+1}\",\n",
    "            )\n",
    "        if column in label_dict:\n",
    "            ax.set_ylabel(label_dict[column])\n",
    "        ax.set_title(column)\n",
    "        ax.grid(True)\n",
    "        ax.legend()\n",
    "    plt.tight_layout()"
   ]
  },
  {
   "cell_type": "code",
   "execution_count": 6,
   "metadata": {},
   "outputs": [],
   "source": [
    "def get_df(fname, mode):\n",
    "    df = pd.read_csv(fname, header=None)\n",
    "    if mode == \"input\":\n",
    "        df.columns = ifcolumns\n",
    "    elif mode == \"output\" or mode == \"outputMG\":\n",
    "        df.columns = ofcolumns\n",
    "        df[\"totalDeposited\"] = df[\"totalDeposited\"].apply(lambda x: int(x) / ONE_ETHER)\n",
    "    elif mode == \"inputMG\":\n",
    "        df.columns = ifcolumnsMaxGrowth\n",
    "    df[\"timestamp_days\"] = (df[\"timestamp\"] / ONE_DAY).floordiv(1)\n",
    "    return df"
   ]
  }
 ],
 "metadata": {
  "kernelspec": {
   "display_name": "Python 3",
   "language": "python",
   "name": "python3"
  },
  "language_info": {
   "codemirror_mode": {
    "name": "ipython",
    "version": 3
   },
   "file_extension": ".py",
   "mimetype": "text/x-python",
   "name": "python",
   "nbconvert_exporter": "python",
   "pygments_lexer": "ipython3",
   "version": "3.12.3"
  }
 },
 "nbformat": 4,
 "nbformat_minor": 2
}
