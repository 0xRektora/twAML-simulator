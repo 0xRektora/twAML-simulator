{
 "cells": [
  {
   "cell_type": "code",
   "execution_count": 2,
   "metadata": {},
   "outputs": [],
   "source": [
    "import numpy as np\n",
    "import matplotlib.pyplot as plt\n",
    "import pandas as pd"
   ]
  },
  {
   "cell_type": "code",
   "execution_count": 38,
   "metadata": {},
   "outputs": [],
   "source": [
    "ONE_DAY = 86400\n",
    "ONE_HOUR = 3600\n",
    "ONE_WEEK = 7 * ONE_DAY\n",
    "df = pd.DataFrame(columns=[\"timestamp\", \"operation\", \"account\", \"amount\", \"duration\"])"
   ]
  },
  {
   "cell_type": "code",
   "execution_count": 39,
   "metadata": {},
   "outputs": [
    {
     "name": "stdout",
     "output_type": "stream",
     "text": [
      "    timestamp  operation  account  amount  duration\n",
      "0           0          1     1001    4000         4\n",
      "1       86400          1     1001    4400         4\n",
      "2      172800          1     1001    4840         4\n",
      "3      259200          1     1001    5324         4\n",
      "4      345600          1     1001    5856         4\n",
      "5      432000          1     1001    6442         4\n",
      "6      518400          1     1001    7086         4\n",
      "7      604800          1     1001    7794         4\n",
      "8      691200          1     1001    8574         4\n",
      "9      777600          1     1001    9431         4\n",
      "10     864000          1     1001   10374         4\n",
      "11     950400          1     1001   11412         4\n",
      "12    1036800          1     1001   12553         4\n",
      "13    1123200          1     1001   13809         4\n",
      "14    1209600          1     1001   15189         4\n",
      "15    1296000          1     1001   16708         4\n",
      "16    1382400          1     1001   18379         4\n",
      "17    1468800          1     1001   20217         4\n",
      "18    1555200          1     1001   22239         4\n",
      "19    1641600          1     1001   24463         4\n"
     ]
    }
   ],
   "source": [
    "# CASE 2: Every day 4000 tap deposited, increase by 500 per day and locked for 4 weeks. 20 days\n",
    "\n",
    "SAVE = False\n",
    "case_num = 2\n",
    "ifname = f\"../results/inputfiles/test{case_num}.csv\"\n",
    "\n",
    "df[\"timestamp\"] = [i * ONE_DAY for i in range(20)]\n",
    "df[\"operation\"] = [1] * 20\n",
    "df[\"account\"] = [1001] * 20\n",
    "df[\"amount\"] = [int(4000 * (1.1**i)) for i in range(20)]\n",
    "df[\"duration\"] = [4] * 20\n",
    "print(df)\n",
    "if SAVE:\n",
    "    df.to_csv(ifname, index=False, header=False)"
   ]
  },
  {
   "cell_type": "code",
   "execution_count": 46,
   "metadata": {},
   "outputs": [
    {
     "name": "stdout",
     "output_type": "stream",
     "text": [
      "    timestamp  operation  account  amount  duration\n",
      "0           0          1     1001    4000         4\n",
      "1       86400          1     1001    4400         4\n",
      "2      172800          1     1001    4840         4\n",
      "3      259200          1     1001    5324         5\n",
      "4      345600          1     1001    5856         5\n",
      "5      432000          1     1001    6442         6\n",
      "6      518400          1     1001    7086         7\n",
      "7      604800          1     1001    7794         7\n",
      "8      691200          1     1001    8574         8\n",
      "9      777600          1     1001    9431         9\n",
      "10     864000          1     1001   10374        10\n",
      "11     950400          1     1001   11412        11\n",
      "12    1036800          1     1001   12553        12\n",
      "13    1123200          1     1001   13809        13\n",
      "14    1209600          1     1001   15189        15\n",
      "15    1296000          1     1001   16708        16\n",
      "16    1382400          1     1001   18379        18\n",
      "17    1468800          1     1001   20217        20\n",
      "18    1555200          1     1001   22239        22\n",
      "19    1641600          1     1001   24463        24\n"
     ]
    }
   ],
   "source": [
    "# CASE 2: Every day 4000 tap deposited, increase by 500 per day and locked for 4 weeks. 20 days\n",
    "\n",
    "SAVE = False\n",
    "case_num = 3\n",
    "ifname = f\"../results/inputfiles/test{case_num}.csv\"\n",
    "\n",
    "df[\"timestamp\"] = [i * ONE_DAY for i in range(20)]\n",
    "df[\"operation\"] = [1] * 20\n",
    "df[\"account\"] = [1001] * 20\n",
    "df[\"amount\"] = [int(4000 * (1.1**i)) for i in range(20)]\n",
    "df[\"duration\"] = [4 * (1.1**i) for i in range(20)]\n",
    "df[\"duration\"] = np.floor(df[\"duration\"]).astype(int)\n",
    "print(df)\n",
    "if SAVE:\n",
    "    df.to_csv(ifname, index=False, header=False)"
   ]
  },
  {
   "cell_type": "code",
   "execution_count": null,
   "metadata": {},
   "outputs": [],
   "source": []
  }
 ],
 "metadata": {
  "kernelspec": {
   "display_name": "Python 3",
   "language": "python",
   "name": "python3"
  },
  "language_info": {
   "codemirror_mode": {
    "name": "ipython",
    "version": 3
   },
   "file_extension": ".py",
   "mimetype": "text/x-python",
   "name": "python",
   "nbconvert_exporter": "python",
   "pygments_lexer": "ipython3",
   "version": "3.12.3"
  }
 },
 "nbformat": 4,
 "nbformat_minor": 2
}
